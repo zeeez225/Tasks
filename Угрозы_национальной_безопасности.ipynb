{
  "nbformat": 4,
  "nbformat_minor": 0,
  "metadata": {
    "colab": {
      "provenance": [],
      "authorship_tag": "ABX9TyMfzlKcRGzme3BjjI4F1oJE",
      "include_colab_link": true
    },
    "kernelspec": {
      "name": "python3",
      "display_name": "Python 3"
    },
    "language_info": {
      "name": "python"
    }
  },
  "cells": [
    {
      "cell_type": "markdown",
      "metadata": {
        "id": "view-in-github",
        "colab_type": "text"
      },
      "source": [
        "<a href=\"https://colab.research.google.com/github/zeeez225/Tasks/blob/main/%D0%A3%D0%B3%D1%80%D0%BE%D0%B7%D1%8B_%D0%BD%D0%B0%D1%86%D0%B8%D0%BE%D0%BD%D0%B0%D0%BB%D1%8C%D0%BD%D0%BE%D0%B9_%D0%B1%D0%B5%D0%B7%D0%BE%D0%BF%D0%B0%D1%81%D0%BD%D0%BE%D1%81%D1%82%D0%B8.ipynb\" target=\"_parent\"><img src=\"https://colab.research.google.com/assets/colab-badge.svg\" alt=\"Open In Colab\"/></a>"
      ]
    },
    {
      "cell_type": "code",
      "source": [
        "import sqlite3  # Работа с базами данных SQLite\n",
        "import subprocess  # Для выполнения системных команд\n",
        "import json  # Работа с JSON (безопасная сериализация/десериализация)\n",
        "import pickle  # Опасная библиотека для сериализации объектов Python\n",
        "import matplotlib.pyplot as plt  # Библиотека для построения графиков"
      ],
      "metadata": {
        "id": "jD6ryTdhRBRc"
      },
      "execution_count": 1,
      "outputs": []
    },
    {
      "cell_type": "code",
      "source": [
        "# --- Угроза 1: SQL Injection ---\n",
        "\n",
        "def unsafe_sql_query(user_input):  # Функция демонстрирует SQL-инъекцию\n",
        "    conn = sqlite3.connect(':memory:')  # Создание временной БД в оперативной памяти\n",
        "    c = conn.cursor()  # Получение курсора для выполнения SQL-запросов\n",
        "    c.execute(\"CREATE TABLE users (id INTEGER PRIMARY KEY, username TEXT)\")  # Создание таблицы users\n",
        "    c.execute(\"INSERT INTO users (username) VALUES ('admin')\")  # Вставка тестовой записи\n",
        "    query = f\"SELECT * FROM users WHERE username = '{user_input}'\"  # Уязвимый SQL-запрос — строка собирается вручную\n",
        "    print(f\"Выполняется запрос: {query}\")  # Логирование запроса (может быть полезно, но опасно)\n",
        "    try:\n",
        "        c.execute(query)  # Выполнение SQL-запроса\n",
        "        result = c.fetchall()  # Получение результатов\n",
        "        return result  # Возврат результата\n",
        "    except sqlite3.Error as e:  # Обработка ошибок SQL\n",
        "        return f\"Ошибка SQL: {e}\"  # Возврат сообщения об ошибке\n",
        "    finally:\n",
        "        conn.close()  # Закрытие соединения с БД\n",
        "\n",
        "def safe_sql_query(user_input):  # Безопасная альтернатива\n",
        "    conn = sqlite3.connect(':memory:')  # Временная БД в памяти\n",
        "    c = conn.cursor()  # Получение курсора\n",
        "    c.execute(\"CREATE TABLE users (id INTEGER PRIMARY KEY, username TEXT)\")  # Создание таблицы\n",
        "    c.execute(\"INSERT INTO users (username) VALUES ('admin')\")  # Вставка записи\n",
        "    query = \"SELECT * FROM users WHERE username = ?\"  # Безопасный параметризованный запрос\n",
        "    print(f\"Выполняется безопасный запрос с параметром: {user_input}\")  # Лог запроса\n",
        "    c.execute(query, (user_input,))  # Выполнение безопасного запроса с параметром\n",
        "    result = c.fetchall()  # Получение результата\n",
        "    conn.close()  # Закрытие соединения\n",
        "    return result  # Возврат результата\n"
      ],
      "metadata": {
        "id": "m5ZdLCu9RKvT"
      },
      "execution_count": 2,
      "outputs": []
    },
    {
      "cell_type": "code",
      "source": [
        "# --- Угроза 2: Командные инъекции ---\n",
        "\n",
        "def unsafe_os_command(user_input):  # Пример уязвимости командной инъекции\n",
        "    cmd = f\"echo {user_input}\"  # Сборка команды из строки (уязвимо)\n",
        "    print(f\"Выполняется команда: {cmd} (опасно)\")  # Лог команды\n",
        "    # subprocess.Popen(cmd, shell=True)  # Опасно: shell=True позволяет инъекции\n",
        "    return cmd  # Возврат строки команды\n",
        "\n",
        "def safe_os_command(user_input):  # Безопасная реализация\n",
        "    import shlex  # Модуль для безопасного экранирования аргументов\n",
        "    safe_input = shlex.quote(user_input)  # Экранирование пользовательского ввода\n",
        "    cmd = [\"echo\", user_input]  # Список аргументов — безопаснее, чем строка\n",
        "    print(f\"Выполняется безопасная команда: {cmd}\")  # Лог безопасной команды\n",
        "    # subprocess.Popen(cmd)  # Безопасное выполнение\n",
        "    return cmd  # Возврат команды"
      ],
      "metadata": {
        "id": "KpNzoF4XRPeM"
      },
      "execution_count": 3,
      "outputs": []
    },
    {
      "cell_type": "code",
      "source": [
        "# --- Угроза 3: Утечка данных ---\n",
        "\n",
        "def unsafe_logging(password):  # Уязвимость: логирование чувствительных данных\n",
        "    print(f\"Логируем пароль: {password}\")  # Плохая практика: пароль виден в логах\n",
        "\n",
        "def safe_logging(password):  # Безопасное логирование\n",
        "    import hashlib  # Импорт библиотеки для хэширования\n",
        "    hashed = hashlib.sha256(password.encode()).hexdigest()  # Хэширование пароля\n",
        "    print(f\"Логируем хэш пароля: {hashed}\")  # Логирование безопасного хэша"
      ],
      "metadata": {
        "id": "HXKUKLsFRSlr"
      },
      "execution_count": 4,
      "outputs": []
    },
    {
      "cell_type": "code",
      "source": [
        "# --- Угроза 4: Опасная десериализация pickle ---\n",
        "\n",
        "def unsafe_deserialize(data):  # Пример уязвимости pickle\n",
        "    try:\n",
        "        obj = pickle.loads(data)  # Десериализация данных — может быть опасна\n",
        "        print(\"Десериализация выполнена\")  # Успешная десериализация\n",
        "        return obj  # Возврат объекта\n",
        "    except Exception as e:  # Обработка ошибок\n",
        "        print(f\"Ошибка десериализации: {e}\")  # Сообщение об ошибке\n",
        "def safe_deserialize(data):  # Безопасная альтернатива через JSON\n",
        "    try:\n",
        "        obj = json.loads(data)  # Десериализация JSON (безопаснее)\n",
        "        print(\"Безопасная десериализация JSON выполнена\")  # Успех\n",
        "        return obj  # Возврат объекта\n",
        "    except Exception as e:  # Обработка ошибок\n",
        "        print(f\"Ошибка десериализации JSON: {e}\")  # Ошибка при десериализации"
      ],
      "metadata": {
        "id": "VoLh6aJWRadE"
      },
      "execution_count": 5,
      "outputs": []
    },
    {
      "cell_type": "code",
      "source": [
        "# --- Визуализация распространенности угроз ---\n",
        "\n",
        "def plot_threats():  # Функция для отображения статистики угроз\n",
        "    threats = ['SQL Injection', 'Командные инъекции', 'Утечка данных', 'Опасная десериализация', 'Устаревшие библиотеки']  # Список угроз\n",
        "    counts = [45, 25, 15, 10, 5]  # Примерные данные по угрозам (в процентах)\n",
        "    plt.figure(figsize=(8,5))  # Размер графика\n",
        "    bars = plt.bar(threats, counts, color='crimson')  # Создание столбчатой диаграммы\n",
        "    plt.title('Распределение основных угроз безопасности Python-приложений (%)')  # Заголовок графика\n",
        "    plt.ylabel('Процент случаев')  # Подпись оси Y\n",
        "    plt.ylim(0, 50)  # Ограничение шкалы Y\n",
        "    for bar in bars:  # Добавление надписей над столбцами\n",
        "        yval = bar.get_height()  # Получение высоты столбца\n",
        "        plt.text(bar.get_x() + bar.get_width()/2, yval + 1, f'{yval}%', ha='center', va='bottom')  # Отображение значения\n",
        "    plt.show()  # Отображение графика"
      ],
      "metadata": {
        "id": "MZxD8nXRRvSM"
      },
      "execution_count": 6,
      "outputs": []
    },
    {
      "cell_type": "code",
      "source": [
        "# --- Примеры вызова и выводы ---\n",
        "\n",
        "if name == \"main\":  # Точка входа в программу\n",
        "    print(\"=== Пример SQL Injection ===\")  # Заголовок\n",
        "    malicious_input = \"' OR '1'='1\"  # Вредоносный ввод\n",
        "    print(\"Результат небезопасного запроса:\", unsafe_sql_query(malicious_input))  # Демонстрация уязвимости\n",
        "    print(\"Результат безопасного запроса:\", safe_sql_query(malicious_input))  # Демонстрация защиты\n",
        "\n",
        "    print(\"\\n=== Пример командной инъекции ===\")  # Заголовок\n",
        "    dangerous_input = \"hello; rm -rf /\"  # Потенциально опасный ввод\n",
        "    print(\"Небезопасная команда:\", unsafe_os_command(dangerous_input))  # Уязвимая реализация\n",
        "    print(\"Безопасная команда:\", safe_os_command(dangerous_input))  # Защищённая реализация\n",
        "\n",
        "    print(\"\\n=== Пример утечки данных ===\")  # Заголовок\n",
        "    unsafe_logging(\"SuperSecret123\")  # Логирование пароля (опасно)\n",
        "    safe_logging(\"SuperSecret123\")  # Безопасное логирование\n",
        "\n",
        "    print(\"\\n=== Пример десериализации ===\")  # Заголовок\n",
        "    malicious_pickle = pickle.dumps({\"key\": \"value\"})  # Создание объекта для pickle\n",
        "    unsafe_deserialize(malicious_pickle)  # Опасная десериализация\n",
        "    safe_deserialize('{\"key\": \"value\"}')  # Безопасная десериализация через JSON\n",
        "\n",
        "    print(\"\\n=== Визуализация угроз ===\")  # Заголовок\n",
        "    plot_threats()  # Построение графика\n",
        "\n",
        "    print(\"\\n=== Выводы ===\")  # Заключение\n",
        "    print(\"\"\"\n",
        "    1. SQL Injection можно предотвратить с помощью параметризации запросов.\n",
        "    2. Командные инъекции устраняются отказом от shell=True и экранированием ввода.\n",
        "    3. Никогда не логируйте пароли или чувствительные данные в открытом виде.\n",
        "    4. Не используйте pickle для десериализации данных из ненадежных источников — предпочтите JSON.\n",
        "    5. Регулярно обновляйте Python и библиотеки, чтобы избежать уязвимостей.\n",
        "        \"\"\")"
      ],
      "metadata": {
        "colab": {
          "base_uri": "https://localhost:8080/",
          "height": 211
        },
        "id": "vWy9hNPgRzPs",
        "outputId": "e71f88a3-a5a0-454f-ac5c-0e467802693f"
      },
      "execution_count": 8,
      "outputs": [
        {
          "output_type": "error",
          "ename": "NameError",
          "evalue": "name 'name' is not defined",
          "traceback": [
            "\u001b[0;31m---------------------------------------------------------------------------\u001b[0m",
            "\u001b[0;31mNameError\u001b[0m                                 Traceback (most recent call last)",
            "\u001b[0;32m<ipython-input-8-f838904bfc72>\u001b[0m in \u001b[0;36m<cell line: 0>\u001b[0;34m()\u001b[0m\n\u001b[1;32m      1\u001b[0m \u001b[0;31m# --- Примеры вызова и выводы ---\u001b[0m\u001b[0;34m\u001b[0m\u001b[0;34m\u001b[0m\u001b[0m\n\u001b[1;32m      2\u001b[0m \u001b[0;34m\u001b[0m\u001b[0m\n\u001b[0;32m----> 3\u001b[0;31m \u001b[0;32mif\u001b[0m \u001b[0mname\u001b[0m \u001b[0;34m==\u001b[0m \u001b[0;34m\"main\"\u001b[0m\u001b[0;34m:\u001b[0m  \u001b[0;31m# Точка входа в программу\u001b[0m\u001b[0;34m\u001b[0m\u001b[0;34m\u001b[0m\u001b[0m\n\u001b[0m\u001b[1;32m      4\u001b[0m     \u001b[0mprint\u001b[0m\u001b[0;34m(\u001b[0m\u001b[0;34m\"=== Пример SQL Injection ===\"\u001b[0m\u001b[0;34m)\u001b[0m  \u001b[0;31m# Заголовок\u001b[0m\u001b[0;34m\u001b[0m\u001b[0;34m\u001b[0m\u001b[0m\n\u001b[1;32m      5\u001b[0m     \u001b[0mmalicious_input\u001b[0m \u001b[0;34m=\u001b[0m \u001b[0;34m\"' OR '1'='1\"\u001b[0m  \u001b[0;31m# Вредоносный ввод\u001b[0m\u001b[0;34m\u001b[0m\u001b[0;34m\u001b[0m\u001b[0m\n",
            "\u001b[0;31mNameError\u001b[0m: name 'name' is not defined"
          ]
        }
      ]
    }
  ]
}