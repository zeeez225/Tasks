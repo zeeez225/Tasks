{
  "cells": [
    {
      "cell_type": "markdown",
      "metadata": {
        "id": "view-in-github",
        "colab_type": "text"
      },
      "source": [
        "<a href=\"https://colab.research.google.com/github/zeeez225/Tasks/blob/main/Algorithmic_constructions_of_tasks_in_Python_3.ipynb\" target=\"_parent\"><img src=\"https://colab.research.google.com/assets/colab-badge.svg\" alt=\"Open In Colab\"/></a>"
      ]
    },
    {
      "cell_type": "markdown",
      "metadata": {
        "id": "oOz321yueXU6"
      },
      "source": [
        "# **Конструкция if – elif – else**"
      ]
    },
    {
      "cell_type": "markdown",
      "metadata": {
        "id": "EY8NTF-XeN-c"
      },
      "source": [
        "### Рассчитайте процентную ставку для вклада в зависимости от суммы и срока вклада"
      ]
    },
    {
      "cell_type": "code",
      "execution_count": null,
      "metadata": {
        "colab": {
          "base_uri": "https://localhost:8080/"
        },
        "id": "HgA_IlvPd0Dr",
        "outputId": "096cab1c-3b06-49c3-a95f-5f8b8ba98fa1"
      },
      "outputs": [
        {
          "output_type": "stream",
          "name": "stdout",
          "text": [
            "Введите сумму вклада: 66000\n",
            "Введите срок вклада в месяцах: 12\n",
            "Процентная ставка: 0.08\n"
          ]
        }
      ],
      "source": [
        "amount = int(input(\"Введите сумму вклада: \"))\n",
        "term = int(input(\"Введите срок вклада в месяцах: \"))\n",
        "\n",
        "if amount < 10000 and term < 12:\n",
        "    rate = 0.05\n",
        "elif amount < 10000 and term >= 12:\n",
        "    rate = 0.06\n",
        "elif amount >= 10000 and term < 12:\n",
        "    rate = 0.07\n",
        "else:\n",
        "    rate = 0.08\n",
        "\n",
        "print(f\"Процентная ставка: {rate}\")\n"
      ]
    },
    {
      "cell_type": "markdown",
      "metadata": {
        "id": "A_hscqnVevnD"
      },
      "source": [
        "# Проверка наличия денежных средств на счете:"
      ]
    },
    {
      "cell_type": "code",
      "execution_count": null,
      "metadata": {
        "id": "LuNORbP1e33C",
        "colab": {
          "base_uri": "https://localhost:8080/"
        },
        "outputId": "406b0d63-92b4-45c1-b7e0-2f7efcd69d4b"
      },
      "outputs": [
        {
          "output_type": "stream",
          "name": "stdout",
          "text": [
            "Введите баланс счета: 666\n",
            "Введите сумму, которую вы хотите снять: 66\n",
            "Снятие 66.00 руб. со счета. Остаток: 600.00 руб.\n"
          ]
        }
      ],
      "source": [
        "balance = float(input(\"Введите баланс счета: \"))\n",
        "withdrawal = float(input(\"Введите сумму, которую вы хотите снять: \"))\n",
        "\n",
        "if balance >= withdrawal:\n",
        "    balance -= withdrawal\n",
        "    print(f\"Снятие {withdrawal:.2f} руб. со счета. Остаток: {balance:.2f} руб.\")\n",
        "else:\n",
        "    print(\"Недостаточно средств на счете\")"
      ]
    },
    {
      "cell_type": "markdown",
      "source": [
        "#Расчет процентной ставки для вклада или кредита."
      ],
      "metadata": {
        "id": "U-dURv97GRmC"
      }
    },
    {
      "cell_type": "code",
      "source": [
        "amount = int(input(\"Введите сумму кредита: \"))\n",
        "term = int(input(\"Введите срок кредита в месяцах: \"))\n",
        "\n",
        "if amount < 10000 and term < 12:\n",
        "    rate = 0.05\n",
        "elif amount < 10000 and term >= 12:\n",
        "    rate = 0.06\n",
        "elif amount >= 10000 and term < 12:\n",
        "    rate = 0.07\n",
        "else:\n",
        "    rate = 0.08\n",
        "\n",
        "interest = amount * rate * term / 12\n",
        "print(f\"Процентная ставка: {rate}\")\n",
        "print(f\"Выплаты по кредиту: {interest}\")"
      ],
      "metadata": {
        "colab": {
          "base_uri": "https://localhost:8080/"
        },
        "id": "FdN_nrJeGhrE",
        "outputId": "2245df87-1708-4c33-a2a3-0b3507d0bdf2"
      },
      "execution_count": null,
      "outputs": [
        {
          "output_type": "stream",
          "name": "stdout",
          "text": [
            "Введите сумму кредита: 60000\n",
            "Введите срок кредита в месяцах: 24\n",
            "Процентная ставка: 0.08\n",
            "Выплаты по кредиту: 9600.0\n"
          ]
        }
      ]
    },
    {
      "cell_type": "markdown",
      "source": [
        "#Расчет ежемесячного платежа по кредиту."
      ],
      "metadata": {
        "id": "heLYgqxCGobS"
      }
    },
    {
      "cell_type": "code",
      "source": [
        "amount = int(input(\"Введите сумму кредита: \"))\n",
        "term = int(input(\"Введите срок кредита в месяцах: \"))\n",
        "interest = amount * rate * term / 12\n",
        "print(f\"Выплаты по кредиту: {interest}\")"
      ],
      "metadata": {
        "colab": {
          "base_uri": "https://localhost:8080/"
        },
        "id": "cdB6Fc6XGw7y",
        "outputId": "72d7805b-476e-484b-fed4-d4bbc7aa8bb7"
      },
      "execution_count": null,
      "outputs": [
        {
          "output_type": "stream",
          "name": "stdout",
          "text": [
            "Введите сумму кредита: 66000\n",
            "Введите срок кредита в месяцах: 12\n",
            "Выплаты по кредиту: 5280.0\n"
          ]
        }
      ]
    },
    {
      "cell_type": "markdown",
      "source": [
        "#Расчет доходности инвестиций."
      ],
      "metadata": {
        "id": "JnaNtHWTG8Pc"
      }
    },
    {
      "cell_type": "code",
      "source": [
        "amount=int(input(\"Введите сумму инвестиций: \"))\n",
        "term=int(input(\"Введите срок инвестиций в месяцах: \"))\n",
        "if amount< 10000 and term < 12:\n",
        "  rate= 0.05\n",
        "elif amount < 10000 and term >= 12:\n",
        "  rate=0.06\n",
        "elif amount >= 10000 and term < 12:\n",
        "  rate=0.07\n",
        "else:\n",
        "  rate=0.08\n",
        "interest= amount * rate * term/ 12\n",
        "print(f\"Процентная ставка инвестиций: {rate}\")\n",
        "print(f\"Доход от инвестиций: {interest}\")"
      ],
      "metadata": {
        "colab": {
          "base_uri": "https://localhost:8080/"
        },
        "id": "whBieQiKHAqX",
        "outputId": "fc54813b-fcda-4465-ada8-afbc657e3cd0"
      },
      "execution_count": null,
      "outputs": [
        {
          "output_type": "stream",
          "name": "stdout",
          "text": [
            "Введите сумму инвестиций: 66000\n",
            "Введите срок инвестиций в месяцах: 12\n",
            "Процентная ставка инвестиций: 0.08\n",
            "Доход от инвестиций: 5280.0\n"
          ]
        }
      ]
    },
    {
      "cell_type": "markdown",
      "metadata": {
        "id": "bG2HyagrfI3K"
      },
      "source": [
        "# **Циклы - for и while в решении финансовых задач на Python 3.**"
      ]
    },
    {
      "cell_type": "markdown",
      "metadata": {
        "id": "zbOdhU72fRWC"
      },
      "source": [
        "# Рассчитать проценты на сумму вклада"
      ]
    },
    {
      "cell_type": "code",
      "execution_count": null,
      "metadata": {
        "id": "WlwpX1UxfZ-6",
        "colab": {
          "base_uri": "https://localhost:8080/"
        },
        "outputId": "2cb29661-b406-431a-d62b-148c7704dc73"
      },
      "outputs": [
        {
          "output_type": "stream",
          "name": "stdout",
          "text": [
            "12762.815625000001\n"
          ]
        }
      ],
      "source": [
        "deposit = 10000\n",
        "interest_rate = 0.05\n",
        "years = 5\n",
        "for i in range(years):\n",
        "    deposit = deposit * (1 + interest_rate)\n",
        "print(deposit)\n"
      ]
    },
    {
      "cell_type": "markdown",
      "metadata": {
        "id": "ldmUZKhYfzky"
      },
      "source": [
        "# Рассчитать сумму выплат по кредиту"
      ]
    },
    {
      "cell_type": "code",
      "execution_count": null,
      "metadata": {
        "id": "Of_P2YtXfkTi",
        "colab": {
          "base_uri": "https://localhost:8080/"
        },
        "outputId": "41428e4e-28f9-49ef-b98b-d1011a9605bf"
      },
      "outputs": [
        {
          "output_type": "stream",
          "name": "stdout",
          "text": [
            "12762.815625000001\n"
          ]
        }
      ],
      "source": [
        "deposit = 10000\n",
        "interest_rate = 0.05\n",
        "years = 5\n",
        "i = 0\n",
        "while i < years:\n",
        "    deposit = deposit * (1 + interest_rate)\n",
        "    i += 1\n",
        "print(deposit)\n"
      ]
    },
    {
      "cell_type": "markdown",
      "source": [
        "#Рассчитать сумму выплат по кредиту. Решение с помощью цикла for."
      ],
      "metadata": {
        "id": "PKfsfDL7H3jD"
      }
    },
    {
      "cell_type": "code",
      "execution_count": null,
      "metadata": {
        "id": "sHahDaUYf-Ib",
        "colab": {
          "base_uri": "https://localhost:8080/"
        },
        "outputId": "e729f769-b3bd-44a3-9c8c-f35acaae54ea"
      },
      "outputs": [
        {
          "output_type": "stream",
          "name": "stdout",
          "text": [
            "100000.00000000006\n"
          ]
        }
      ],
      "source": [
        "loan_amount = 100000\n",
        "interest_rate = 0.1\n",
        "years = 5\n",
        "monthly_payment = loan_amount / (years * 12)\n",
        "total_payments = 0\n",
        "for i in range(years * 12):\n",
        "    total_payments += monthly_payment\n",
        "    loan_amount = loan_amount * (1 + interest_rate / 12) - monthly_payment\n",
        "print(total_payments)\n"
      ]
    },
    {
      "cell_type": "markdown",
      "metadata": {
        "id": "yrZjXOGpgLSh"
      },
      "source": [
        "# Рассчитать ежемесячные платежи по кредиту"
      ]
    },
    {
      "cell_type": "code",
      "execution_count": null,
      "metadata": {
        "id": "hkFNcJufgPjK",
        "colab": {
          "base_uri": "https://localhost:8080/"
        },
        "outputId": "546345a8-7a5e-4c60-bc29-45adb50fe293"
      },
      "outputs": [
        {
          "output_type": "stream",
          "name": "stdout",
          "text": [
            "Month 1: Payment = 2124.70, Remaining balance = 98708.63\n",
            "Month 2: Payment = 2124.70, Remaining balance = 97406.50\n",
            "Month 3: Payment = 2124.70, Remaining balance = 96093.51\n",
            "Month 4: Payment = 2124.70, Remaining balance = 94769.59\n",
            "Month 5: Payment = 2124.70, Remaining balance = 93434.63\n",
            "Month 6: Payment = 2124.70, Remaining balance = 92088.55\n",
            "Month 7: Payment = 2124.70, Remaining balance = 90731.25\n",
            "Month 8: Payment = 2124.70, Remaining balance = 89362.64\n",
            "Month 9: Payment = 2124.70, Remaining balance = 87982.62\n",
            "Month 10: Payment = 2124.70, Remaining balance = 86591.10\n",
            "Month 11: Payment = 2124.70, Remaining balance = 85187.99\n",
            "Month 12: Payment = 2124.70, Remaining balance = 83773.19\n",
            "Month 13: Payment = 2124.70, Remaining balance = 82346.59\n",
            "Month 14: Payment = 2124.70, Remaining balance = 80908.11\n",
            "Month 15: Payment = 2124.70, Remaining balance = 79457.64\n",
            "Month 16: Payment = 2124.70, Remaining balance = 77995.08\n",
            "Month 17: Payment = 2124.70, Remaining balance = 76520.34\n",
            "Month 18: Payment = 2124.70, Remaining balance = 75033.30\n",
            "Month 19: Payment = 2124.70, Remaining balance = 73533.88\n",
            "Month 20: Payment = 2124.70, Remaining balance = 72021.95\n",
            "Month 21: Payment = 2124.70, Remaining balance = 70497.43\n",
            "Month 22: Payment = 2124.70, Remaining balance = 68960.21\n",
            "Month 23: Payment = 2124.70, Remaining balance = 67410.17\n",
            "Month 24: Payment = 2124.70, Remaining balance = 65847.22\n",
            "Month 25: Payment = 2124.70, Remaining balance = 64271.24\n",
            "Month 26: Payment = 2124.70, Remaining balance = 62682.13\n",
            "Month 27: Payment = 2124.70, Remaining balance = 61079.77\n",
            "Month 28: Payment = 2124.70, Remaining balance = 59464.07\n",
            "Month 29: Payment = 2124.70, Remaining balance = 57834.90\n",
            "Month 30: Payment = 2124.70, Remaining balance = 56192.15\n",
            "Month 31: Payment = 2124.70, Remaining balance = 54535.71\n",
            "Month 32: Payment = 2124.70, Remaining balance = 52865.47\n",
            "Month 33: Payment = 2124.70, Remaining balance = 51181.32\n",
            "Month 34: Payment = 2124.70, Remaining balance = 49483.12\n",
            "Month 35: Payment = 2124.70, Remaining balance = 47770.78\n",
            "Month 36: Payment = 2124.70, Remaining balance = 46044.16\n",
            "Month 37: Payment = 2124.70, Remaining balance = 44303.16\n",
            "Month 38: Payment = 2124.70, Remaining balance = 42547.65\n",
            "Month 39: Payment = 2124.70, Remaining balance = 40777.51\n",
            "Month 40: Payment = 2124.70, Remaining balance = 38992.61\n",
            "Month 41: Payment = 2124.70, Remaining balance = 37192.85\n",
            "Month 42: Payment = 2124.70, Remaining balance = 35378.08\n",
            "Month 43: Payment = 2124.70, Remaining balance = 33548.20\n",
            "Month 44: Payment = 2124.70, Remaining balance = 31703.06\n",
            "Month 45: Payment = 2124.70, Remaining balance = 29842.55\n",
            "Month 46: Payment = 2124.70, Remaining balance = 27966.53\n",
            "Month 47: Payment = 2124.70, Remaining balance = 26074.88\n",
            "Month 48: Payment = 2124.70, Remaining balance = 24167.47\n",
            "Month 49: Payment = 2124.70, Remaining balance = 22244.16\n",
            "Month 50: Payment = 2124.70, Remaining balance = 20304.82\n",
            "Month 51: Payment = 2124.70, Remaining balance = 18349.33\n",
            "Month 52: Payment = 2124.70, Remaining balance = 16377.53\n",
            "Month 53: Payment = 2124.70, Remaining balance = 14389.31\n",
            "Month 54: Payment = 2124.70, Remaining balance = 12384.51\n",
            "Month 55: Payment = 2124.70, Remaining balance = 10363.01\n",
            "Month 56: Payment = 2124.70, Remaining balance = 8324.67\n",
            "Month 57: Payment = 2124.70, Remaining balance = 6269.34\n",
            "Month 58: Payment = 2124.70, Remaining balance = 4196.88\n",
            "Month 59: Payment = 2124.70, Remaining balance = 2107.14\n",
            "Month 60: Payment = 2124.70, Remaining balance = -0.00\n"
          ]
        }
      ],
      "source": [
        "loan_amount = 100000\n",
        "interest_rate = 0.1\n",
        "years = 5\n",
        "monthly_interest_rate = interest_rate / 12\n",
        "months = years * 12\n",
        "payment = (loan_amount * monthly_interest_rate) / (1 - (1 + monthly_interest_rate) ** (-months))\n",
        "for i in range(months):\n",
        "    loan_amount = loan_amount * (1 + monthly_interest_rate) - payment\n",
        "    print(f\"Month {i+1}: Payment = {payment:.2f}, Remaining balance = {loan_amount:.2f}\")\n"
      ]
    },
    {
      "cell_type": "markdown",
      "source": [
        "#Рассчитать ежемесячные платежи по кредиту. Решение с помощью цикла while."
      ],
      "metadata": {
        "id": "s_UEJCwpIHkL"
      }
    },
    {
      "cell_type": "code",
      "execution_count": null,
      "metadata": {
        "id": "01ZakW3gga0z",
        "colab": {
          "base_uri": "https://localhost:8080/"
        },
        "outputId": "5a0b0c20-6dcb-4f8e-a617-983027ad4218"
      },
      "outputs": [
        {
          "output_type": "stream",
          "name": "stdout",
          "text": [
            "Month 1: Payment = 2124.70, Remaining balance = 98708.63\n",
            "Month 2: Payment = 2124.70, Remaining balance = 97406.50\n",
            "Month 3: Payment = 2124.70, Remaining balance = 96093.51\n",
            "Month 4: Payment = 2124.70, Remaining balance = 94769.59\n",
            "Month 5: Payment = 2124.70, Remaining balance = 93434.63\n",
            "Month 6: Payment = 2124.70, Remaining balance = 92088.55\n",
            "Month 7: Payment = 2124.70, Remaining balance = 90731.25\n",
            "Month 8: Payment = 2124.70, Remaining balance = 89362.64\n",
            "Month 9: Payment = 2124.70, Remaining balance = 87982.62\n",
            "Month 10: Payment = 2124.70, Remaining balance = 86591.10\n",
            "Month 11: Payment = 2124.70, Remaining balance = 85187.99\n",
            "Month 12: Payment = 2124.70, Remaining balance = 83773.19\n",
            "Month 13: Payment = 2124.70, Remaining balance = 82346.59\n",
            "Month 14: Payment = 2124.70, Remaining balance = 80908.11\n",
            "Month 15: Payment = 2124.70, Remaining balance = 79457.64\n",
            "Month 16: Payment = 2124.70, Remaining balance = 77995.08\n",
            "Month 17: Payment = 2124.70, Remaining balance = 76520.34\n",
            "Month 18: Payment = 2124.70, Remaining balance = 75033.30\n",
            "Month 19: Payment = 2124.70, Remaining balance = 73533.88\n",
            "Month 20: Payment = 2124.70, Remaining balance = 72021.95\n",
            "Month 21: Payment = 2124.70, Remaining balance = 70497.43\n",
            "Month 22: Payment = 2124.70, Remaining balance = 68960.21\n",
            "Month 23: Payment = 2124.70, Remaining balance = 67410.17\n",
            "Month 24: Payment = 2124.70, Remaining balance = 65847.22\n",
            "Month 25: Payment = 2124.70, Remaining balance = 64271.24\n",
            "Month 26: Payment = 2124.70, Remaining balance = 62682.13\n",
            "Month 27: Payment = 2124.70, Remaining balance = 61079.77\n",
            "Month 28: Payment = 2124.70, Remaining balance = 59464.07\n",
            "Month 29: Payment = 2124.70, Remaining balance = 57834.90\n",
            "Month 30: Payment = 2124.70, Remaining balance = 56192.15\n",
            "Month 31: Payment = 2124.70, Remaining balance = 54535.71\n",
            "Month 32: Payment = 2124.70, Remaining balance = 52865.47\n",
            "Month 33: Payment = 2124.70, Remaining balance = 51181.32\n",
            "Month 34: Payment = 2124.70, Remaining balance = 49483.12\n",
            "Month 35: Payment = 2124.70, Remaining balance = 47770.78\n",
            "Month 36: Payment = 2124.70, Remaining balance = 46044.16\n",
            "Month 37: Payment = 2124.70, Remaining balance = 44303.16\n",
            "Month 38: Payment = 2124.70, Remaining balance = 42547.65\n",
            "Month 39: Payment = 2124.70, Remaining balance = 40777.51\n",
            "Month 40: Payment = 2124.70, Remaining balance = 38992.61\n",
            "Month 41: Payment = 2124.70, Remaining balance = 37192.85\n",
            "Month 42: Payment = 2124.70, Remaining balance = 35378.08\n",
            "Month 43: Payment = 2124.70, Remaining balance = 33548.20\n",
            "Month 44: Payment = 2124.70, Remaining balance = 31703.06\n",
            "Month 45: Payment = 2124.70, Remaining balance = 29842.55\n",
            "Month 46: Payment = 2124.70, Remaining balance = 27966.53\n",
            "Month 47: Payment = 2124.70, Remaining balance = 26074.88\n",
            "Month 48: Payment = 2124.70, Remaining balance = 24167.47\n",
            "Month 49: Payment = 2124.70, Remaining balance = 22244.16\n",
            "Month 50: Payment = 2124.70, Remaining balance = 20304.82\n",
            "Month 51: Payment = 2124.70, Remaining balance = 18349.33\n",
            "Month 52: Payment = 2124.70, Remaining balance = 16377.53\n",
            "Month 53: Payment = 2124.70, Remaining balance = 14389.31\n",
            "Month 54: Payment = 2124.70, Remaining balance = 12384.51\n",
            "Month 55: Payment = 2124.70, Remaining balance = 10363.01\n",
            "Month 56: Payment = 2124.70, Remaining balance = 8324.67\n",
            "Month 57: Payment = 2124.70, Remaining balance = 6269.34\n",
            "Month 58: Payment = 2124.70, Remaining balance = 4196.88\n",
            "Month 59: Payment = 2124.70, Remaining balance = 2107.14\n",
            "Month 60: Payment = 2124.70, Remaining balance = -0.00\n"
          ]
        }
      ],
      "source": [
        "loan_amount = 100000\n",
        "interest_rate = 0.1\n",
        "years = 5\n",
        "monthly_interest_rate = interest_rate / 12\n",
        "months = years * 12\n",
        "payment = (loan_amount * monthly_interest_rate) / (1 - (1 + monthly_interest_rate) ** (-months))\n",
        "i = 0\n",
        "while i < months:\n",
        "    loan_amount = loan_amount * (1 + monthly_interest_rate) - payment\n",
        "    print(f\"Month {i+1}: Payment = {payment:.2f}, Remaining balance = {loan_amount:.2f}\")\n",
        "    i += 1\n"
      ]
    }
  ],
  "metadata": {
    "colab": {
      "provenance": [],
      "name": "Algorithmic constructions of tasks in Python 3.ipynb",
      "include_colab_link": true
    },
    "kernelspec": {
      "display_name": "Python 3",
      "name": "python3"
    },
    "language_info": {
      "name": "python"
    }
  },
  "nbformat": 4,
  "nbformat_minor": 0
}